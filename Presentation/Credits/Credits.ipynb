{
 "cells": [
  {
   "cell_type": "markdown",
   "metadata": {
    "slideshow": {
     "slide_type": "slide"
    }
   },
   "source": [
    "# Классификация заемщиков кредита с помощью логистической регрессии\n",
    "\n",
    "## Московский физико-технический институт\n",
    "\n",
    "### Соколов Игорь Александрович"
   ]
  },
  {
   "cell_type": "markdown",
   "metadata": {
    "slideshow": {
     "slide_type": "slide"
    }
   },
   "source": [
    "## Постановка задачи"
   ]
  },
  {
   "cell_type": "markdown",
   "metadata": {
    "slideshow": {
     "slide_type": "fragment"
    }
   },
   "source": [
    "#### Задача\n",
    "\n",
    "Классифицировать заемщиков кредита с помощью логистической регрессии. \n",
    "\n",
    "* Рассмотреть регуляризаторы L1, L2, подобрать наилучшие параметры по метрике roc_auc"
   ]
  },
  {
   "cell_type": "markdown",
   "metadata": {
    "slideshow": {
     "slide_type": "subslide"
    }
   },
   "source": [
    "Пусть объекты описываются $n$ числовыми признаками:\n",
    "\n",
    "$X \\subseteq \\mathbb{R}^n$ - пространство признаковых описаний объектов.\n",
    "\n",
    "Y = \\{+1, -1\\} - множество меток классов.\n",
    "\n",
    "Задана обучающая выборка: $\\{(x_i, y_i)\\}_1^l$\n",
    "\n",
    "Наша задачи найти линейный алгоритм классификации:\n",
    "\n",
    "$$a(x, w) = sign\\langle w, x\\rangle$$\n",
    "\n"
   ]
  },
  {
   "cell_type": "markdown",
   "metadata": {
    "slideshow": {
     "slide_type": "subslide"
    }
   },
   "source": [
    "Параметры $w$ и находятся, как решения следующей задачи оптимизации:\n",
    "\n",
    "L2-regularization:\n",
    "\n",
    "$$ Q(X, y) = \\frac{1}{2} w^T w + C \\sum_{i=1}^l \\log ( 1 + \\exp(-y_i (w^T x_i) ) ) \\longrightarrow \\min\\limits_{w,b} $$\n",
    "\n",
    "L1-regularization:\n",
    "\n",
    "$$ Q(X, y) = \\sum_{d=1}^D |w_d| + C \\sum_{i=1}^l \\log ( 1 + \\exp(-y_i (w^T x_i ) ) ) \\longrightarrow \\min\\limits_{w,b} $$\n",
    "\n",
    "$C$ - это стандартный гиперпараметр модели, который регулирует то, насколько сильно мы позволяем модели подстраиваться под данные."
   ]
  },
  {
   "cell_type": "markdown",
   "metadata": {
    "slideshow": {
     "slide_type": "slide"
    }
   },
   "source": [
    "## Обзор данных"
   ]
  },
  {
   "cell_type": "code",
   "execution_count": 1,
   "metadata": {
    "slideshow": {
     "slide_type": "notes"
    }
   },
   "outputs": [
    {
     "name": "stderr",
     "output_type": "stream",
     "text": [
      "/home/igor/anaconda2/envs/py27/lib/python2.7/site-packages/sklearn/cross_validation.py:44: DeprecationWarning: This module was deprecated in version 0.18 in favor of the model_selection module into which all the refactored classes and functions are moved. Also note that the interface of the new CV iterators are different from that of this module. This module will be removed in 0.20.\n",
      "  \"This module will be removed in 0.20.\", DeprecationWarning)\n",
      "/home/igor/anaconda2/envs/py27/lib/python2.7/site-packages/sklearn/grid_search.py:43: DeprecationWarning: This module was deprecated in version 0.18 in favor of the model_selection module into which all the refactored classes and functions are moved. This module will be removed in 0.20.\n",
      "  DeprecationWarning)\n"
     ]
    }
   ],
   "source": [
    "import pandas as pd\n",
    "import numpy as np\n",
    "from matplotlib import pyplot as plt\n",
    "import math\n",
    "from sklearn.linear_model import LogisticRegression as LR\n",
    "from sklearn.feature_extraction import DictVectorizer as DV\n",
    "from sklearn.cross_validation import train_test_split\n",
    "from sklearn.linear_model import LogisticRegression\n",
    "from sklearn.grid_search import GridSearchCV\n",
    "from sklearn.metrics import roc_auc_score,roc_curve\n",
    "from pandas.tools.plotting import scatter_matrix\n",
    "from sklearn.preprocessing import StandardScaler\n",
    "from sklearn.cross_validation import StratifiedKFold, KFold\n",
    "\n",
    "\n",
    "%matplotlib inline"
   ]
  },
  {
   "cell_type": "code",
   "execution_count": 2,
   "metadata": {
    "slideshow": {
     "slide_type": "fragment"
    }
   },
   "outputs": [
    {
     "data": {
      "text/html": [
       "<div>\n",
       "<style>\n",
       "    .dataframe thead tr:only-child th {\n",
       "        text-align: right;\n",
       "    }\n",
       "\n",
       "    .dataframe thead th {\n",
       "        text-align: left;\n",
       "    }\n",
       "\n",
       "    .dataframe tbody tr th {\n",
       "        vertical-align: top;\n",
       "    }\n",
       "</style>\n",
       "<table border=\"1\" class=\"dataframe\">\n",
       "  <thead>\n",
       "    <tr style=\"text-align: right;\">\n",
       "      <th></th>\n",
       "      <th>A1</th>\n",
       "      <th>A2</th>\n",
       "      <th>A3</th>\n",
       "      <th>A4</th>\n",
       "      <th>A5</th>\n",
       "      <th>A6</th>\n",
       "      <th>A7</th>\n",
       "      <th>A8</th>\n",
       "      <th>A9</th>\n",
       "      <th>A10</th>\n",
       "      <th>A11</th>\n",
       "      <th>A12</th>\n",
       "      <th>A13</th>\n",
       "      <th>A14</th>\n",
       "      <th>A15</th>\n",
       "      <th>A16</th>\n",
       "    </tr>\n",
       "  </thead>\n",
       "  <tbody>\n",
       "    <tr>\n",
       "      <th>0</th>\n",
       "      <td>b</td>\n",
       "      <td>30.83</td>\n",
       "      <td>0.000</td>\n",
       "      <td>u</td>\n",
       "      <td>g</td>\n",
       "      <td>w</td>\n",
       "      <td>v</td>\n",
       "      <td>1.25</td>\n",
       "      <td>t</td>\n",
       "      <td>t</td>\n",
       "      <td>1</td>\n",
       "      <td>f</td>\n",
       "      <td>g</td>\n",
       "      <td>00202</td>\n",
       "      <td>0</td>\n",
       "      <td>+</td>\n",
       "    </tr>\n",
       "    <tr>\n",
       "      <th>1</th>\n",
       "      <td>a</td>\n",
       "      <td>58.67</td>\n",
       "      <td>4.460</td>\n",
       "      <td>u</td>\n",
       "      <td>g</td>\n",
       "      <td>q</td>\n",
       "      <td>h</td>\n",
       "      <td>3.04</td>\n",
       "      <td>t</td>\n",
       "      <td>t</td>\n",
       "      <td>6</td>\n",
       "      <td>f</td>\n",
       "      <td>g</td>\n",
       "      <td>00043</td>\n",
       "      <td>560</td>\n",
       "      <td>+</td>\n",
       "    </tr>\n",
       "    <tr>\n",
       "      <th>2</th>\n",
       "      <td>a</td>\n",
       "      <td>24.50</td>\n",
       "      <td>0.500</td>\n",
       "      <td>u</td>\n",
       "      <td>g</td>\n",
       "      <td>q</td>\n",
       "      <td>h</td>\n",
       "      <td>1.50</td>\n",
       "      <td>t</td>\n",
       "      <td>f</td>\n",
       "      <td>0</td>\n",
       "      <td>f</td>\n",
       "      <td>g</td>\n",
       "      <td>00280</td>\n",
       "      <td>824</td>\n",
       "      <td>+</td>\n",
       "    </tr>\n",
       "    <tr>\n",
       "      <th>3</th>\n",
       "      <td>b</td>\n",
       "      <td>27.83</td>\n",
       "      <td>1.540</td>\n",
       "      <td>u</td>\n",
       "      <td>g</td>\n",
       "      <td>w</td>\n",
       "      <td>v</td>\n",
       "      <td>3.75</td>\n",
       "      <td>t</td>\n",
       "      <td>t</td>\n",
       "      <td>5</td>\n",
       "      <td>t</td>\n",
       "      <td>g</td>\n",
       "      <td>00100</td>\n",
       "      <td>3</td>\n",
       "      <td>+</td>\n",
       "    </tr>\n",
       "    <tr>\n",
       "      <th>4</th>\n",
       "      <td>b</td>\n",
       "      <td>20.17</td>\n",
       "      <td>5.625</td>\n",
       "      <td>u</td>\n",
       "      <td>g</td>\n",
       "      <td>w</td>\n",
       "      <td>v</td>\n",
       "      <td>1.71</td>\n",
       "      <td>t</td>\n",
       "      <td>f</td>\n",
       "      <td>0</td>\n",
       "      <td>f</td>\n",
       "      <td>s</td>\n",
       "      <td>00120</td>\n",
       "      <td>0</td>\n",
       "      <td>+</td>\n",
       "    </tr>\n",
       "  </tbody>\n",
       "</table>\n",
       "</div>"
      ],
      "text/plain": [
       "  A1     A2     A3 A4 A5 A6 A7    A8 A9 A10  A11 A12 A13    A14  A15 A16\n",
       "0  b  30.83  0.000  u  g  w  v  1.25  t   t    1   f   g  00202    0   +\n",
       "1  a  58.67  4.460  u  g  q  h  3.04  t   t    6   f   g  00043  560   +\n",
       "2  a  24.50  0.500  u  g  q  h  1.50  t   f    0   f   g  00280  824   +\n",
       "3  b  27.83  1.540  u  g  w  v  3.75  t   t    5   t   g  00100    3   +\n",
       "4  b  20.17  5.625  u  g  w  v  1.71  t   f    0   f   s  00120    0   +"
      ]
     },
     "execution_count": 2,
     "metadata": {},
     "output_type": "execute_result"
    }
   ],
   "source": [
    "df = pd.read_csv('data.csv')\n",
    "df.head(5)"
   ]
  },
  {
   "cell_type": "markdown",
   "metadata": {
    "slideshow": {
     "slide_type": "subslide"
    }
   },
   "source": [
    "* **A2, A3, A8, A11, A14, A15**: вещественные.\n",
    "* **A1**:\tb, a. \n",
    "* **A4**:\tu, y, l, t. \n",
    "* **A5**:\tg, p, gg. \n",
    "* **A6**:\tc, d, cc, i, j, k, m, r, q, w, x, e, aa, ff. \n",
    "* **A7**:\tv, h, bb, j, n, z, dd, ff, o. \n",
    "* **A9, A10, A12**:\tt, f.  \n",
    "* **A13**:\tg, p, s. \n",
    "\n",
    "* **A16**: +,- атрибут класса\n"
   ]
  },
  {
   "cell_type": "markdown",
   "metadata": {
    "slideshow": {
     "slide_type": "fragment"
    }
   },
   "source": [
    "Так как некоторые и признаков категориальные, то для для построения линейной модели необходима предобработка. "
   ]
  },
  {
   "cell_type": "markdown",
   "metadata": {
    "slideshow": {
     "slide_type": "slide"
    }
   },
   "source": [
    "## Измерение качества"
   ]
  },
  {
   "cell_type": "markdown",
   "metadata": {
    "slideshow": {
     "slide_type": "fragment"
    }
   },
   "source": [
    "<img src=\"dts.png\">\n",
    "\n"
   ]
  },
  {
   "cell_type": "markdown",
   "metadata": {
    "slideshow": {
     "slide_type": "subslide"
    }
   },
   "source": [
    "<img src=\"cv.jpeg\">\n",
    "\n",
    "\n",
    "**Мера качества** auc-roc "
   ]
  },
  {
   "cell_type": "markdown",
   "metadata": {
    "slideshow": {
     "slide_type": "slide"
    }
   },
   "source": [
    "## Предобработка данных\n",
    "### Обработка пропущенных значений и преобразование вещественных признаков\n",
    "\n",
    "На место пропуска можно вставить либо среднее по столбцу либо 0.\n",
    "\n",
    "Далее рассмотрим два варианта.\n"
   ]
  },
  {
   "cell_type": "code",
   "execution_count": 3,
   "metadata": {
    "collapsed": true,
    "slideshow": {
     "slide_type": "notes"
    }
   },
   "outputs": [],
   "source": [
    "X = df.drop('A16', 1)\n",
    "y = df['A16']"
   ]
  },
  {
   "cell_type": "code",
   "execution_count": 4,
   "metadata": {
    "collapsed": true,
    "slideshow": {
     "slide_type": "notes"
    }
   },
   "outputs": [],
   "source": [
    "numeric_cols = ['A2', 'A3', 'A8', 'A11', 'A14', 'A15']    \n",
    "categorical_cols = list(set(X.columns.values.tolist()) - set(numeric_cols))    "
   ]
  },
  {
   "cell_type": "code",
   "execution_count": 5,
   "metadata": {
    "collapsed": true,
    "slideshow": {
     "slide_type": "notes"
    }
   },
   "outputs": [],
   "source": [
    "def calculate_means(numeric_data):\n",
    "    means = np.zeros(numeric_data.shape[1])\n",
    "    for j in range(numeric_data.shape[1]):\n",
    "        to_sum = numeric_data.iloc[:,j]\n",
    "        indices = np.nonzero(~numeric_data.iloc[:,j].isnull())[0]\n",
    "        correction = np.amax(to_sum[indices])\n",
    "        to_sum /= correction\n",
    "        for i in indices:\n",
    "            means[j] += to_sum[i]\n",
    "        means[j] /= indices.size\n",
    "        means[j] *= correction\n",
    "    return pd.Series(means, numeric_data.columns)"
   ]
  },
  {
   "cell_type": "code",
   "execution_count": 6,
   "metadata": {},
   "outputs": [
    {
     "data": {
      "text/plain": [
       "{'00000',\n",
       " '00017',\n",
       " '00020',\n",
       " '00021',\n",
       " '00022',\n",
       " '00024',\n",
       " '00028',\n",
       " '00029',\n",
       " '00030',\n",
       " '00032',\n",
       " '00040',\n",
       " '00043',\n",
       " '00045',\n",
       " '00049',\n",
       " '00050',\n",
       " '00052',\n",
       " '00056',\n",
       " '00060',\n",
       " '00062',\n",
       " '00070',\n",
       " '00073',\n",
       " '00075',\n",
       " '00076',\n",
       " '00080',\n",
       " '00086',\n",
       " '00088',\n",
       " '00092',\n",
       " '00093',\n",
       " '00094',\n",
       " '00096',\n",
       " '00099',\n",
       " '00100',\n",
       " '00102',\n",
       " '00108',\n",
       " '00110',\n",
       " '00112',\n",
       " '00117',\n",
       " '00120',\n",
       " '00121',\n",
       " '00128',\n",
       " '00129',\n",
       " '00130',\n",
       " '00132',\n",
       " '00136',\n",
       " '00140',\n",
       " '00141',\n",
       " '00144',\n",
       " '00145',\n",
       " '00150',\n",
       " '00152',\n",
       " '00154',\n",
       " '00156',\n",
       " '00160',\n",
       " '00163',\n",
       " '00164',\n",
       " '00167',\n",
       " '00168',\n",
       " '00170',\n",
       " '00171',\n",
       " '00174',\n",
       " '00176',\n",
       " '00178',\n",
       " '00180',\n",
       " '00181',\n",
       " '00186',\n",
       " '00188',\n",
       " '00195',\n",
       " '00200',\n",
       " '00202',\n",
       " '00204',\n",
       " '00208',\n",
       " '00210',\n",
       " '00211',\n",
       " '00212',\n",
       " '00216',\n",
       " '00220',\n",
       " '00221',\n",
       " '00224',\n",
       " '00225',\n",
       " '00228',\n",
       " '00230',\n",
       " '00231',\n",
       " '00232',\n",
       " '00239',\n",
       " '00240',\n",
       " '00250',\n",
       " '00252',\n",
       " '00253',\n",
       " '00254',\n",
       " '00256',\n",
       " '00260',\n",
       " '00263',\n",
       " '00268',\n",
       " '00272',\n",
       " '00274',\n",
       " '00276',\n",
       " '00280',\n",
       " '00288',\n",
       " '00290',\n",
       " '00292',\n",
       " '00300',\n",
       " '00303',\n",
       " '00309',\n",
       " '00311',\n",
       " '00312',\n",
       " '00320',\n",
       " '00329',\n",
       " '00330',\n",
       " '00333',\n",
       " '00340',\n",
       " '00348',\n",
       " '00349',\n",
       " '00350',\n",
       " '00352',\n",
       " '00356',\n",
       " '00360',\n",
       " '00368',\n",
       " '00369',\n",
       " '00370',\n",
       " '00371',\n",
       " '00372',\n",
       " '00375',\n",
       " '00380',\n",
       " '00381',\n",
       " '00383',\n",
       " '00393',\n",
       " '00395',\n",
       " '00396',\n",
       " '00399',\n",
       " '00400',\n",
       " '00408',\n",
       " '00410',\n",
       " '00411',\n",
       " '00416',\n",
       " '00420',\n",
       " '00422',\n",
       " '00431',\n",
       " '00432',\n",
       " '00434',\n",
       " '00440',\n",
       " '00443',\n",
       " '00450',\n",
       " '00454',\n",
       " '00455',\n",
       " '00460',\n",
       " '00465',\n",
       " '00470',\n",
       " '00480',\n",
       " '00487',\n",
       " '00491',\n",
       " '00500',\n",
       " '00510',\n",
       " '00515',\n",
       " '00519',\n",
       " '00520',\n",
       " '00523',\n",
       " '00550',\n",
       " '00560',\n",
       " '00583',\n",
       " '00600',\n",
       " '00640',\n",
       " '00680',\n",
       " '00711',\n",
       " '00720',\n",
       " '00760',\n",
       " '00840',\n",
       " '00928',\n",
       " '00980',\n",
       " '01160',\n",
       " '02000',\n",
       " '?'}"
      ]
     },
     "execution_count": 6,
     "metadata": {},
     "output_type": "execute_result"
    }
   ],
   "source": [
    "set(X['A14'])"
   ]
  },
  {
   "cell_type": "code",
   "execution_count": 7,
   "metadata": {
    "collapsed": true,
    "slideshow": {
     "slide_type": "fragment"
    }
   },
   "outputs": [],
   "source": [
    "X['A2'] = X['A2'].apply(lambda x: np.NaN if x =='?' else x)\n",
    "X['A14'] = X['A14'].apply(lambda x: np.NaN if x =='?' else x)\n",
    "\n",
    "X_num_float = X[numeric_cols].astype(float)\n",
    "nan_id = np.argwhere(np.isnan(X_num_float['A14'].values))\n",
    "\n",
    "X_real_zeros = X_num_float.fillna(0.0)\n",
    "X_real_mean = X_num_float.fillna(calculate_means(X_num_float))\n",
    "\n",
    "X_cat = X[categorical_cols].astype(str)\n",
    "\n",
    "#Преобразование ответов\n",
    "y_num = y.apply(lambda x: 1 if x=='+' else -1)"
   ]
  },
  {
   "cell_type": "markdown",
   "metadata": {
    "slideshow": {
     "slide_type": "subslide"
    }
   },
   "source": [
    "### Преобразование категориальных признаков"
   ]
  },
  {
   "cell_type": "code",
   "execution_count": 8,
   "metadata": {
    "slideshow": {
     "slide_type": "fragment"
    }
   },
   "outputs": [
    {
     "data": {
      "text/plain": [
       "{'?', 'g', 'gg', 'p'}"
      ]
     },
     "execution_count": 8,
     "metadata": {},
     "output_type": "execute_result"
    }
   ],
   "source": [
    "set(X_cat['A5'].values)"
   ]
  },
  {
   "cell_type": "markdown",
   "metadata": {
    "slideshow": {
     "slide_type": "fragment"
    }
   },
   "source": [
    "$? \\rightarrow (1, 0, 0, 0)$\n",
    "\n",
    "$g \\rightarrow (0, 1, 0, 0)$\n",
    "\n",
    "$gg \\rightarrow (0, 0, 1, 0)$\n",
    "\n",
    "$p \\rightarrow (0, 0, 0, 1)$"
   ]
  },
  {
   "cell_type": "code",
   "execution_count": 9,
   "metadata": {
    "collapsed": true,
    "slideshow": {
     "slide_type": "fragment"
    }
   },
   "outputs": [],
   "source": [
    "encoder = DV(sparse = False)\n",
    "X_cat_oh = encoder.fit_transform(X_cat.T.to_dict().values())"
   ]
  },
  {
   "cell_type": "code",
   "execution_count": 10,
   "metadata": {
    "collapsed": true,
    "slideshow": {
     "slide_type": "notes"
    }
   },
   "outputs": [],
   "source": [
    "(X_train_real_zeros, \n",
    " X_test_real_zeros, \n",
    " y_train, y_test) = train_test_split(X_real_zeros, y_num, \n",
    "                                     test_size=0.2, \n",
    "                                     random_state=0)\n",
    "(X_train_real_mean, \n",
    " X_test_real_mean) = train_test_split(X_real_mean, \n",
    "                                      test_size=0.2, \n",
    "                                      random_state=0)\n",
    "(X_train_cat_oh,\n",
    " X_test_cat_oh) = train_test_split(X_cat_oh, \n",
    "                                   test_size=0.2, \n",
    "                                   random_state=0)"
   ]
  },
  {
   "cell_type": "markdown",
   "metadata": {
    "slideshow": {
     "slide_type": "subslide"
    }
   },
   "source": [
    "### Стандартизация\n",
    "Построим гистограммы для вещественных признаков."
   ]
  },
  {
   "cell_type": "code",
   "execution_count": 11,
   "metadata": {
    "collapsed": true,
    "slideshow": {
     "slide_type": "notes"
    }
   },
   "outputs": [],
   "source": [
    "def plot_hists():\n",
    "    n_bins = 10\n",
    "    x = np.random.randn(1000, 3)\n",
    "\n",
    "    fig, axes = plt.subplots(nrows=2, ncols=3, figsize=(15, 10))\n",
    "    ax = axes.flatten()\n",
    "\n",
    "    for i, col in enumerate(numeric_cols):\n",
    "        ax[i].hist(X_real_mean[col].values, n_bins, color=\"blue\")\n",
    "        ax[i].legend(prop={'size': 10})\n",
    "        ax[i].set_title(col)\n",
    "\n",
    "    fig.tight_layout()\n",
    "    plt.show()"
   ]
  },
  {
   "cell_type": "code",
   "execution_count": 12,
   "metadata": {
    "slideshow": {
     "slide_type": "subslide"
    }
   },
   "outputs": [
    {
     "name": "stderr",
     "output_type": "stream",
     "text": [
      "/home/igor/anaconda2/envs/py27/lib/python2.7/site-packages/matplotlib/axes/_axes.py:545: UserWarning: No labelled objects found. Use label='...' kwarg on individual plots.\n",
      "  warnings.warn(\"No labelled objects found. \"\n"
     ]
    },
    {
     "data": {
      "image/png": "[encoded data removed]",
      "text/plain": [
       "<matplotlib.figure.Figure at 0x7f94a63d9d10>"
      ]
     },
     "metadata": {},
     "output_type": "display_data"
    }
   ],
   "source": [
    "plot_hists()"
   ]
  },
  {
   "cell_type": "markdown",
   "metadata": {
    "slideshow": {
     "slide_type": "subslide"
    }
   },
   "source": [
    "Как видно из графиков, разные признаки очень сильно отличаются друг от друга по модулю значений. \n",
    "\n",
    "При использовании регуляризации, которая штрафует модель за большие веса, это разброс начинает сказываться и регрессия, как правило, начинает работать хуже.\n",
    "\n",
    "Стандартизация осуществляется посредством вычета из каждого признака среднего значения и нормировки на выборочное стандартное отклонение:\n",
    "\n",
    "$$ x^{scaled}_{i} = \\dfrac{x_{i} - \\mu}{\\sigma}, \\quad \\mu = \\frac{1}{N} \\sum_{i=1}^l x_{i}, \\quad \\sigma = \\sqrt{\\frac{1}{N-1} \\sum_{i=1}^l (x_{i} - \\mu)^2} $$\n",
    "\n",
    "$\\mu$ и $\\sigma$ вычисляется именно по тренировочным данным.\n",
    "\n",
    "Мы считаем, что и тренировочные и тестовые данные находится в одном распределении, поэтому делаем преобразование над тестовой выборкой с такими же $\\mu$ и $\\sigma$"
   ]
  },
  {
   "cell_type": "code",
   "execution_count": 21,
   "metadata": {
    "collapsed": true,
    "slideshow": {
     "slide_type": "notes"
    }
   },
   "outputs": [],
   "source": [
    "def plot_scores(optimizer1, optimizer2, title):\n",
    "    f, (ax1, ax2) = plt.subplots(1, 2, figsize=(20, 10))\n",
    "    optimizer2_mean\n",
    "    scores1 = [[item[0]['C'], item[1], \n",
    "(np.sum((item[2]-item[1])**2)/(item[2].size-1))**0.5] for item in optimizer1.grid_scores_]\n",
    "    scores1 = np.array(scores1)\n",
    "    ax1.semilogx(scores1[:,0], scores1[:,1])\n",
    "    ax1.fill_between(scores1[:,0], scores1[:,1]-scores1[:,2], \n",
    "                                  scores1[:,1]+scores1[:,2], alpha=0.3)\n",
    "    ax1.set_ylabel('ROC-AUC')\n",
    "    ax1.set_xlabel('C')\n",
    "    ax1.set_title(title[0])\n",
    "    \n",
    "    scores2 = [[item[0]['C'], item[1], \n",
    "(np.sum((item[2]-item[1])**2)/(item[2].size-1))**0.5] for item in optimizer2.grid_scores_]\n",
    "    scores2 = np.array(scores2)\n",
    "    ax2.semilogx(scores2[:,0], scores2[:,1])\n",
    "    ax2.fill_between(scores2[:,0], scores2[:,1]-scores2[:,2], \n",
    "                                  scores2[:,1]+scores2[:,2], alpha=0.3)\n",
    "    ax2.set_ylabel('ROC-AUC')\n",
    "    ax2.set_xlabel('C')\n",
    "    ax2.set_title(title[1])\n",
    "    plt.show()"
   ]
  },
  {
   "cell_type": "code",
   "execution_count": 14,
   "metadata": {
    "collapsed": true,
    "slideshow": {
     "slide_type": "notes"
    }
   },
   "outputs": [],
   "source": [
    "def plot_roc(fpr, tpr, label,color):\n",
    "    fig  = plt.figure(figsize=(10,7))\n",
    "    for i in range(len(tpr)):\n",
    "        plt.plot(fpr[i], tpr[i], label=label[i], color=color[i])\n",
    "    plt.plot([0, 1], [0, 1], '--', color = 'grey', label = 'random')\n",
    "    plt.xlim([-0.05, 1.05])\n",
    "    plt.ylim([-0.05, 1.05])\n",
    "    plt.xlabel('False Positive Rate')\n",
    "    plt.ylabel('True Positive Rate')\n",
    "    plt.title('ROC curve')\n",
    "    plt.legend(loc = \"lower right\")\n",
    "    plt.show()"
   ]
  },
  {
   "cell_type": "code",
   "execution_count": 15,
   "metadata": {
    "collapsed": true,
    "slideshow": {
     "slide_type": "notes"
    }
   },
   "outputs": [],
   "source": [
    "X_train_zeros = np.hstack((X_train_real_zeros, X_train_cat_oh))\n",
    "X_test_zeros  = np.hstack((X_test_real_zeros,  X_test_cat_oh))\n",
    "\n",
    "X_train_mean = np.hstack((X_train_real_mean, X_train_cat_oh))\n",
    "X_test_mean  = np.hstack((X_test_real_mean,  X_test_cat_oh))\n",
    "\n",
    "from sklearn.preprocessing import StandardScaler\n",
    "\n",
    "scaler = StandardScaler()\n",
    "\n",
    "scaler.fit(X_train_real_zeros, y_train)\n",
    "X_train_real_zeros_scaled = scaler.transform(X_train_real_zeros)\n",
    "X_test_real_zeros_scaled  = scaler.transform(X_test_real_zeros)\n",
    "\n",
    "scaler.fit(X_train_real_mean, y_train)\n",
    "X_train_real_mean_scaled = scaler.transform(X_train_real_mean)\n",
    "X_test_real_mean_scaled = scaler.transform (X_test_real_mean)\n",
    "\n",
    "X_train_zeros_scaled = np.hstack((X_train_real_zeros_scaled, X_train_cat_oh))\n",
    "X_test_zeros_scaled = np.hstack((X_test_real_zeros_scaled, X_test_cat_oh))\n",
    "\n",
    "X_train_mean_scaled = np.hstack ((X_train_real_mean_scaled, X_train_cat_oh))\n",
    "X_test_mean_scaled = np.hstack((X_test_real_mean_scaled, X_test_cat_oh))"
   ]
  },
  {
   "cell_type": "code",
   "execution_count": 16,
   "metadata": {
    "collapsed": true,
    "slideshow": {
     "slide_type": "notes"
    }
   },
   "outputs": [],
   "source": [
    "def plot_hists_scaled():\n",
    "    n_bins = 10\n",
    "\n",
    "    XX = np.vstack((X_train_mean_scaled, X_test_mean_scaled))\n",
    "\n",
    "    fig, axes = plt.subplots(nrows=2, ncols=3, figsize=(15, 10))\n",
    "    ax = axes.flatten()\n",
    "\n",
    "    for i, col in enumerate(numeric_cols):\n",
    "        ax[i].hist(XX[:,i], n_bins, color=\"blue\")\n",
    "        ax[i].legend(prop={'size': 10})\n",
    "        ax[i].set_title(col)\n",
    "\n",
    "    fig.tight_layout()\n",
    "    plt.show()"
   ]
  },
  {
   "cell_type": "code",
   "execution_count": 17,
   "metadata": {
    "slideshow": {
     "slide_type": "subslide"
    }
   },
   "outputs": [
    {
     "data": {
      "image/png": "[encoded data removed]",
      "text/plain": [
       "<matplotlib.figure.Figure at 0x7f94a38b7610>"
      ]
     },
     "metadata": {},
     "output_type": "display_data"
    }
   ],
   "source": [
    "plot_hists_scaled()"
   ]
  },
  {
   "cell_type": "markdown",
   "metadata": {
    "slideshow": {
     "slide_type": "slide"
    }
   },
   "source": [
    "## Обучение\n",
    "Используем L2-регулярирзацию "
   ]
  },
  {
   "cell_type": "code",
   "execution_count": 64,
   "metadata": {
    "collapsed": true,
    "slideshow": {
     "slide_type": "subslide"
    }
   },
   "outputs": [],
   "source": [
    "C = np.arange(0.01, 50.0, 0.5)\n",
    "param_grid = {'C': C, 'solver':['liblinear']}\n",
    "cv = StratifiedKFold(y_train, n_folds=5, shuffle=True, random_state=0)\n",
    "\n",
    "est2_m = LR('l2')\n",
    "est2_z = LR('l2')\n",
    "est2_ms = LR('l2')\n",
    "est2_zs = LR('l2')\n",
    "\n",
    "\n",
    "opt2_m = GridSearchCV(est2_m,param_grid,scoring = 'roc_auc',cv=cv)\n",
    "opt2_z = GridSearchCV(est2_z,param_grid,scoring = 'roc_auc',cv=cv)\n",
    "\n",
    "opt2_ms = GridSearchCV(est2_ms,param_grid,scoring = 'roc_auc',cv=cv)\n",
    "opt2_zs = GridSearchCV(est2_zs,param_grid,scoring = 'roc_auc',cv=cv)\n"
   ]
  },
  {
   "cell_type": "code",
   "execution_count": 65,
   "metadata": {
    "slideshow": {
     "slide_type": "notes"
    }
   },
   "outputs": [
    {
     "data": {
      "text/plain": [
       "GridSearchCV(cv=sklearn.cross_validation.StratifiedKFold(labels=[ 1 -1 ...,  1 -1], n_folds=5, shuffle=True, random_state=0),\n",
       "       error_score='raise',\n",
       "       estimator=LogisticRegression(C=1.0, class_weight=None, dual=False, fit_intercept=True,\n",
       "          intercept_scaling=1, max_iter=100, multi_class='ovr', n_jobs=1,\n",
       "          penalty='l2', random_state=None, solver='liblinear', tol=0.0001,\n",
       "          verbose=0, warm_start=False),\n",
       "       fit_params={}, iid=True, n_jobs=1,\n",
       "       param_grid={'C': array([  1.00000e-02,   5.10000e-01, ...,   4.90100e+01,   4.95100e+01]), 'solver': ['liblinear']},\n",
       "       pre_dispatch='2*n_jobs', refit=True, scoring='roc_auc', verbose=0)"
      ]
     },
     "execution_count": 65,
     "metadata": {},
     "output_type": "execute_result"
    }
   ],
   "source": [
    "opt2_z.fit(X_train_zeros,y_train)\n",
    "opt2_m.fit(X_train_mean,y_train)\n",
    "\n",
    "opt2_zs.fit(X_train_zeros_scaled,y_train)\n",
    "opt2_ms.fit(X_train_mean_scaled,y_train)"
   ]
  },
  {
   "cell_type": "code",
   "execution_count": 66,
   "metadata": {
    "slideshow": {
     "slide_type": "subslide"
    }
   },
   "outputs": [
    {
     "data": {
      "image/png": "[encoded data removed]",
      "text/plain": [
       "<matplotlib.figure.Figure at 0x7f94a3b3b6d0>"
      ]
     },
     "metadata": {},
     "output_type": "display_data"
    }
   ],
   "source": [
    "plot_scores(opt2_z, opt2_m,[\"zeros_nonscaled\",\"mean_nonscaled\"])"
   ]
  },
  {
   "cell_type": "code",
   "execution_count": 67,
   "metadata": {
    "slideshow": {
     "slide_type": "subslide"
    }
   },
   "outputs": [
    {
     "data": {
      "image/png": "[encoded data removed]",
      "text/plain": [
       "<matplotlib.figure.Figure at 0x7f94a3436110>"
      ]
     },
     "metadata": {},
     "output_type": "display_data"
    }
   ],
   "source": [
    "plot_scores(opt2_zs, opt2_ms,[\"zeros_scaled\",\"mean_scaled\"])"
   ]
  },
  {
   "cell_type": "code",
   "execution_count": 68,
   "metadata": {
    "slideshow": {
     "slide_type": "subslide"
    }
   },
   "outputs": [
    {
     "data": {
      "image/png": "[encoded data removed]",
      "text/plain": [
       "<matplotlib.figure.Figure at 0x7f94a62f9390>"
      ]
     },
     "metadata": {},
     "output_type": "display_data"
    }
   ],
   "source": [
    "fpr1, tpr1, _ = roc_curve(y_test, opt2_z.predict_proba(X_test_zeros)[:,1])\n",
    "fpr2, tpr2, _ = roc_curve(y_test, opt2_m.predict_proba(X_test_mean)[:,1])\n",
    "fpr3, tpr3, _ = roc_curve(y_test, opt2_zs.predict_proba(X_test_zeros_scaled)[:,1])\n",
    "fpr4, tpr4, _ = roc_curve(y_test, opt2_ms.predict_proba(X_test_mean_scaled)[:,1])\n",
    "plot_roc((fpr1,fpr2, fpr3,fpr4), (tpr1, tpr2,tpr3, tpr4), \n",
    "(\"zeros_nonscaled\",\"mean_nonscaled\", \"zeros_scaled\",\"mean_scaled\"), (\"red\",\"orange\",\"green\",\"blue\"))\n"
   ]
  },
  {
   "cell_type": "code",
   "execution_count": 69,
   "metadata": {
    "collapsed": true,
    "slideshow": {
     "slide_type": "notes"
    }
   },
   "outputs": [],
   "source": [
    "def print_results2():\n",
    "    print \"Для zeros_nonscaled\"\n",
    "    print \"ROC-AUC на обучении: \", round(opt2_z.best_score_, 4)\n",
    "    print \"ROC-AUC на отложенной выборке: \",  round(roc_auc_score(y_test, opt2_z.predict(X_test_zeros)), 6)\n",
    "    print \"С: \", est2_z.C\n",
    "    print\"\\n\"\n",
    "    print \"Для mean_nonscaled\"\n",
    "    print \"ROC-AUC на обучении: \", round(opt2_m.best_score_, 4)\n",
    "    print \"ROC-AUC на отложенной выборке: \",  round(roc_auc_score(y_test, opt2_m.predict(X_test_mean)), 6)\n",
    "    print \"С: \", est2_m.C\n",
    "    print\"\\n\"\n",
    "    print \"Для zeros_scaled\"\n",
    "    print \"ROC-AUC на обучении: \", round(opt2_zs.best_score_, 4)\n",
    "    print \"ROC-AUC на отложенной выборке: \",  round(roc_auc_score(y_test, opt2_zs.predict(X_test_zeros_scaled)), 6)\n",
    "    print \"С: \", est2_zs.C\n",
    "    print\"\\n\"\n",
    "    print \"Для mean_scaled\"\n",
    "    print \"ROC-AUC на обучении: \", round(opt2_ms.best_score_, 4)\n",
    "    print \"ROC-AUC на отложенной выборке: \",  round(roc_auc_score(y_test, opt2_ms.predict(X_test_mean_scaled)), 6)\n",
    "    print \"С: \", est2_ms.C"
   ]
  },
  {
   "cell_type": "code",
   "execution_count": 70,
   "metadata": {
    "slideshow": {
     "slide_type": "subslide"
    }
   },
   "outputs": [
    {
     "name": "stdout",
     "output_type": "stream",
     "text": [
      "Для zeros_nonscaled\n",
      "ROC-AUC на обучении:  0.9305\n",
      "ROC-AUC на отложенной выборке:  0.814744\n",
      "С:  1.0\n",
      "\n",
      "\n",
      "Для mean_nonscaled\n",
      "ROC-AUC на обучении:  0.9311\n",
      "ROC-AUC на отложенной выборке:  0.839744\n",
      "С:  1.0\n",
      "\n",
      "\n",
      "Для zeros_scaled\n",
      "ROC-AUC на обучении:  0.9303\n",
      "ROC-AUC на отложенной выборке:  0.839744\n",
      "С:  1.0\n",
      "\n",
      "\n",
      "Для mean_scaled\n",
      "ROC-AUC на обучении:  0.9306\n",
      "ROC-AUC на отложенной выборке:  0.83141\n",
      "С:  1.0\n"
     ]
    }
   ],
   "source": [
    "print_results2()"
   ]
  },
  {
   "cell_type": "markdown",
   "metadata": {
    "slideshow": {
     "slide_type": "fragment"
    }
   },
   "source": [
    "Возрос auc_roc на на той выборке, где пропуски заменены нулями."
   ]
  },
  {
   "cell_type": "markdown",
   "metadata": {
    "slideshow": {
     "slide_type": "subslide"
    }
   },
   "source": [
    "### Попробуем L1-регуляризацию"
   ]
  },
  {
   "cell_type": "code",
   "execution_count": 73,
   "metadata": {
    "slideshow": {
     "slide_type": "fragment"
    }
   },
   "outputs": [],
   "source": [
    "C = np.arange(0.01, 50.0, 0.5)\n",
    "param_grid = {'C': C, 'solver':['liblinear', 'sag']}\n",
    "cv = StratifiedKFold(y_train, n_folds=5, shuffle=True, random_state=0)\n",
    "\n",
    "est1_m  = LR('l1')\n",
    "est1_z  = LR('l1')\n",
    "est1_ms = LR('l1')\n",
    "est1_zs = LR('l1')\n",
    "\n",
    "opt1_m = GridSearchCV(est1_m, param_grid,scoring = 'roc_auc',cv=cv)\n",
    "opt1_z = GridSearchCV(est1_z, param_grid,scoring = 'roc_auc',cv=cv)\n",
    "\n",
    "opt1_ms = GridSearchCV(est1_ms, param_grid,scoring = 'roc_auc',cv=cv)\n",
    "opt1_zs = GridSearchCV(est1_zs, param_grid,scoring = 'roc_auc',cv=cv)"
   ]
  },
  {
   "cell_type": "code",
   "execution_count": 74,
   "metadata": {
    "slideshow": {
     "slide_type": "notes"
    }
   },
   "outputs": [
    {
     "ename": "ValueError",
     "evalue": "Solver sag supports only l2 penalties, got l1 penalty.",
     "output_type": "error",
     "traceback": [
      "\u001b[0;31m---------------------------------------------------------------------------\u001b[0m",
      "\u001b[0;31mValueError\u001b[0m                                Traceback (most recent call last)",
      "\u001b[0;32m<ipython-input-74-e51c8b366cc1>\u001b[0m in \u001b[0;36m<module>\u001b[0;34m()\u001b[0m\n\u001b[0;32m----> 1\u001b[0;31m \u001b[0mopt1_z\u001b[0m\u001b[0;34m.\u001b[0m\u001b[0mfit\u001b[0m\u001b[0;34m(\u001b[0m\u001b[0mX_train_zeros\u001b[0m\u001b[0;34m,\u001b[0m \u001b[0my_train\u001b[0m\u001b[0;34m)\u001b[0m\u001b[0;34m\u001b[0m\u001b[0m\n\u001b[0m\u001b[1;32m      2\u001b[0m \u001b[0mopt1_m\u001b[0m\u001b[0;34m.\u001b[0m\u001b[0mfit\u001b[0m\u001b[0;34m(\u001b[0m\u001b[0mX_train_mean\u001b[0m\u001b[0;34m,\u001b[0m \u001b[0my_train\u001b[0m\u001b[0;34m)\u001b[0m\u001b[0;34m\u001b[0m\u001b[0m\n\u001b[1;32m      3\u001b[0m \u001b[0;34m\u001b[0m\u001b[0m\n\u001b[1;32m      4\u001b[0m \u001b[0mopt1_zs\u001b[0m\u001b[0;34m.\u001b[0m\u001b[0mfit\u001b[0m\u001b[0;34m(\u001b[0m\u001b[0mX_train_zeros_scaled\u001b[0m\u001b[0;34m,\u001b[0m \u001b[0my_train\u001b[0m\u001b[0;34m)\u001b[0m\u001b[0;34m\u001b[0m\u001b[0m\n\u001b[1;32m      5\u001b[0m \u001b[0mopt1_ms\u001b[0m\u001b[0;34m.\u001b[0m\u001b[0mfit\u001b[0m\u001b[0;34m(\u001b[0m\u001b[0mX_train_mean_scaled\u001b[0m\u001b[0;34m,\u001b[0m \u001b[0my_train\u001b[0m\u001b[0;34m)\u001b[0m\u001b[0;34m\u001b[0m\u001b[0m\n",
      "\u001b[0;32m/home/igor/anaconda2/envs/py27/lib/python2.7/site-packages/sklearn/grid_search.pyc\u001b[0m in \u001b[0;36mfit\u001b[0;34m(self, X, y)\u001b[0m\n\u001b[1;32m    827\u001b[0m \u001b[0;34m\u001b[0m\u001b[0m\n\u001b[1;32m    828\u001b[0m         \"\"\"\n\u001b[0;32m--> 829\u001b[0;31m         \u001b[0;32mreturn\u001b[0m \u001b[0mself\u001b[0m\u001b[0;34m.\u001b[0m\u001b[0m_fit\u001b[0m\u001b[0;34m(\u001b[0m\u001b[0mX\u001b[0m\u001b[0;34m,\u001b[0m \u001b[0my\u001b[0m\u001b[0;34m,\u001b[0m \u001b[0mParameterGrid\u001b[0m\u001b[0;34m(\u001b[0m\u001b[0mself\u001b[0m\u001b[0;34m.\u001b[0m\u001b[0mparam_grid\u001b[0m\u001b[0;34m)\u001b[0m\u001b[0;34m)\u001b[0m\u001b[0;34m\u001b[0m\u001b[0m\n\u001b[0m\u001b[1;32m    830\u001b[0m \u001b[0;34m\u001b[0m\u001b[0m\n\u001b[1;32m    831\u001b[0m \u001b[0;34m\u001b[0m\u001b[0m\n",
      "\u001b[0;32m/home/igor/anaconda2/envs/py27/lib/python2.7/site-packages/sklearn/grid_search.pyc\u001b[0m in \u001b[0;36m_fit\u001b[0;34m(self, X, y, parameter_iterable)\u001b[0m\n\u001b[1;32m    571\u001b[0m                                     \u001b[0mself\u001b[0m\u001b[0;34m.\u001b[0m\u001b[0mfit_params\u001b[0m\u001b[0;34m,\u001b[0m \u001b[0mreturn_parameters\u001b[0m\u001b[0;34m=\u001b[0m\u001b[0mTrue\u001b[0m\u001b[0;34m,\u001b[0m\u001b[0;34m\u001b[0m\u001b[0m\n\u001b[1;32m    572\u001b[0m                                     error_score=self.error_score)\n\u001b[0;32m--> 573\u001b[0;31m                 \u001b[0;32mfor\u001b[0m \u001b[0mparameters\u001b[0m \u001b[0;32min\u001b[0m \u001b[0mparameter_iterable\u001b[0m\u001b[0;34m\u001b[0m\u001b[0m\n\u001b[0m\u001b[1;32m    574\u001b[0m                 for train, test in cv)\n\u001b[1;32m    575\u001b[0m \u001b[0;34m\u001b[0m\u001b[0m\n",
      "\u001b[0;32m/home/igor/anaconda2/envs/py27/lib/python2.7/site-packages/sklearn/externals/joblib/parallel.pyc\u001b[0m in \u001b[0;36m__call__\u001b[0;34m(self, iterable)\u001b[0m\n\u001b[1;32m    756\u001b[0m             \u001b[0;31m# was dispatched. In particular this covers the edge\u001b[0m\u001b[0;34m\u001b[0m\u001b[0;34m\u001b[0m\u001b[0m\n\u001b[1;32m    757\u001b[0m             \u001b[0;31m# case of Parallel used with an exhausted iterator.\u001b[0m\u001b[0;34m\u001b[0m\u001b[0;34m\u001b[0m\u001b[0m\n\u001b[0;32m--> 758\u001b[0;31m             \u001b[0;32mwhile\u001b[0m \u001b[0mself\u001b[0m\u001b[0;34m.\u001b[0m\u001b[0mdispatch_one_batch\u001b[0m\u001b[0;34m(\u001b[0m\u001b[0miterator\u001b[0m\u001b[0;34m)\u001b[0m\u001b[0;34m:\u001b[0m\u001b[0;34m\u001b[0m\u001b[0m\n\u001b[0m\u001b[1;32m    759\u001b[0m                 \u001b[0mself\u001b[0m\u001b[0;34m.\u001b[0m\u001b[0m_iterating\u001b[0m \u001b[0;34m=\u001b[0m \u001b[0mTrue\u001b[0m\u001b[0;34m\u001b[0m\u001b[0m\n\u001b[1;32m    760\u001b[0m             \u001b[0;32melse\u001b[0m\u001b[0;34m:\u001b[0m\u001b[0;34m\u001b[0m\u001b[0m\n",
      "\u001b[0;32m/home/igor/anaconda2/envs/py27/lib/python2.7/site-packages/sklearn/externals/joblib/parallel.pyc\u001b[0m in \u001b[0;36mdispatch_one_batch\u001b[0;34m(self, iterator)\u001b[0m\n\u001b[1;32m    606\u001b[0m                 \u001b[0;32mreturn\u001b[0m \u001b[0mFalse\u001b[0m\u001b[0;34m\u001b[0m\u001b[0m\n\u001b[1;32m    607\u001b[0m             \u001b[0;32melse\u001b[0m\u001b[0;34m:\u001b[0m\u001b[0;34m\u001b[0m\u001b[0m\n\u001b[0;32m--> 608\u001b[0;31m                 \u001b[0mself\u001b[0m\u001b[0;34m.\u001b[0m\u001b[0m_dispatch\u001b[0m\u001b[0;34m(\u001b[0m\u001b[0mtasks\u001b[0m\u001b[0;34m)\u001b[0m\u001b[0;34m\u001b[0m\u001b[0m\n\u001b[0m\u001b[1;32m    609\u001b[0m                 \u001b[0;32mreturn\u001b[0m \u001b[0mTrue\u001b[0m\u001b[0;34m\u001b[0m\u001b[0m\n\u001b[1;32m    610\u001b[0m \u001b[0;34m\u001b[0m\u001b[0m\n",
      "\u001b[0;32m/home/igor/anaconda2/envs/py27/lib/python2.7/site-packages/sklearn/externals/joblib/parallel.pyc\u001b[0m in \u001b[0;36m_dispatch\u001b[0;34m(self, batch)\u001b[0m\n\u001b[1;32m    569\u001b[0m         \u001b[0mdispatch_timestamp\u001b[0m \u001b[0;34m=\u001b[0m \u001b[0mtime\u001b[0m\u001b[0;34m.\u001b[0m\u001b[0mtime\u001b[0m\u001b[0;34m(\u001b[0m\u001b[0;34m)\u001b[0m\u001b[0;34m\u001b[0m\u001b[0m\n\u001b[1;32m    570\u001b[0m         \u001b[0mcb\u001b[0m \u001b[0;34m=\u001b[0m \u001b[0mBatchCompletionCallBack\u001b[0m\u001b[0;34m(\u001b[0m\u001b[0mdispatch_timestamp\u001b[0m\u001b[0;34m,\u001b[0m \u001b[0mlen\u001b[0m\u001b[0;34m(\u001b[0m\u001b[0mbatch\u001b[0m\u001b[0;34m)\u001b[0m\u001b[0;34m,\u001b[0m \u001b[0mself\u001b[0m\u001b[0;34m)\u001b[0m\u001b[0;34m\u001b[0m\u001b[0m\n\u001b[0;32m--> 571\u001b[0;31m         \u001b[0mjob\u001b[0m \u001b[0;34m=\u001b[0m \u001b[0mself\u001b[0m\u001b[0;34m.\u001b[0m\u001b[0m_backend\u001b[0m\u001b[0;34m.\u001b[0m\u001b[0mapply_async\u001b[0m\u001b[0;34m(\u001b[0m\u001b[0mbatch\u001b[0m\u001b[0;34m,\u001b[0m \u001b[0mcallback\u001b[0m\u001b[0;34m=\u001b[0m\u001b[0mcb\u001b[0m\u001b[0;34m)\u001b[0m\u001b[0;34m\u001b[0m\u001b[0m\n\u001b[0m\u001b[1;32m    572\u001b[0m         \u001b[0mself\u001b[0m\u001b[0;34m.\u001b[0m\u001b[0m_jobs\u001b[0m\u001b[0;34m.\u001b[0m\u001b[0mappend\u001b[0m\u001b[0;34m(\u001b[0m\u001b[0mjob\u001b[0m\u001b[0;34m)\u001b[0m\u001b[0;34m\u001b[0m\u001b[0m\n\u001b[1;32m    573\u001b[0m \u001b[0;34m\u001b[0m\u001b[0m\n",
      "\u001b[0;32m/home/igor/anaconda2/envs/py27/lib/python2.7/site-packages/sklearn/externals/joblib/_parallel_backends.pyc\u001b[0m in \u001b[0;36mapply_async\u001b[0;34m(self, func, callback)\u001b[0m\n\u001b[1;32m    107\u001b[0m     \u001b[0;32mdef\u001b[0m \u001b[0mapply_async\u001b[0m\u001b[0;34m(\u001b[0m\u001b[0mself\u001b[0m\u001b[0;34m,\u001b[0m \u001b[0mfunc\u001b[0m\u001b[0;34m,\u001b[0m \u001b[0mcallback\u001b[0m\u001b[0;34m=\u001b[0m\u001b[0mNone\u001b[0m\u001b[0;34m)\u001b[0m\u001b[0;34m:\u001b[0m\u001b[0;34m\u001b[0m\u001b[0m\n\u001b[1;32m    108\u001b[0m         \u001b[0;34m\"\"\"Schedule a func to be run\"\"\"\u001b[0m\u001b[0;34m\u001b[0m\u001b[0m\n\u001b[0;32m--> 109\u001b[0;31m         \u001b[0mresult\u001b[0m \u001b[0;34m=\u001b[0m \u001b[0mImmediateResult\u001b[0m\u001b[0;34m(\u001b[0m\u001b[0mfunc\u001b[0m\u001b[0;34m)\u001b[0m\u001b[0;34m\u001b[0m\u001b[0m\n\u001b[0m\u001b[1;32m    110\u001b[0m         \u001b[0;32mif\u001b[0m \u001b[0mcallback\u001b[0m\u001b[0;34m:\u001b[0m\u001b[0;34m\u001b[0m\u001b[0m\n\u001b[1;32m    111\u001b[0m             \u001b[0mcallback\u001b[0m\u001b[0;34m(\u001b[0m\u001b[0mresult\u001b[0m\u001b[0;34m)\u001b[0m\u001b[0;34m\u001b[0m\u001b[0m\n",
      "\u001b[0;32m/home/igor/anaconda2/envs/py27/lib/python2.7/site-packages/sklearn/externals/joblib/_parallel_backends.pyc\u001b[0m in \u001b[0;36m__init__\u001b[0;34m(self, batch)\u001b[0m\n\u001b[1;32m    324\u001b[0m         \u001b[0;31m# Don't delay the application, to avoid keeping the input\u001b[0m\u001b[0;34m\u001b[0m\u001b[0;34m\u001b[0m\u001b[0m\n\u001b[1;32m    325\u001b[0m         \u001b[0;31m# arguments in memory\u001b[0m\u001b[0;34m\u001b[0m\u001b[0;34m\u001b[0m\u001b[0m\n\u001b[0;32m--> 326\u001b[0;31m         \u001b[0mself\u001b[0m\u001b[0;34m.\u001b[0m\u001b[0mresults\u001b[0m \u001b[0;34m=\u001b[0m \u001b[0mbatch\u001b[0m\u001b[0;34m(\u001b[0m\u001b[0;34m)\u001b[0m\u001b[0;34m\u001b[0m\u001b[0m\n\u001b[0m\u001b[1;32m    327\u001b[0m \u001b[0;34m\u001b[0m\u001b[0m\n\u001b[1;32m    328\u001b[0m     \u001b[0;32mdef\u001b[0m \u001b[0mget\u001b[0m\u001b[0;34m(\u001b[0m\u001b[0mself\u001b[0m\u001b[0;34m)\u001b[0m\u001b[0;34m:\u001b[0m\u001b[0;34m\u001b[0m\u001b[0m\n",
      "\u001b[0;32m/home/igor/anaconda2/envs/py27/lib/python2.7/site-packages/sklearn/externals/joblib/parallel.pyc\u001b[0m in \u001b[0;36m__call__\u001b[0;34m(self)\u001b[0m\n\u001b[1;32m    129\u001b[0m \u001b[0;34m\u001b[0m\u001b[0m\n\u001b[1;32m    130\u001b[0m     \u001b[0;32mdef\u001b[0m \u001b[0m__call__\u001b[0m\u001b[0;34m(\u001b[0m\u001b[0mself\u001b[0m\u001b[0;34m)\u001b[0m\u001b[0;34m:\u001b[0m\u001b[0;34m\u001b[0m\u001b[0m\n\u001b[0;32m--> 131\u001b[0;31m         \u001b[0;32mreturn\u001b[0m \u001b[0;34m[\u001b[0m\u001b[0mfunc\u001b[0m\u001b[0;34m(\u001b[0m\u001b[0;34m*\u001b[0m\u001b[0margs\u001b[0m\u001b[0;34m,\u001b[0m \u001b[0;34m**\u001b[0m\u001b[0mkwargs\u001b[0m\u001b[0;34m)\u001b[0m \u001b[0;32mfor\u001b[0m \u001b[0mfunc\u001b[0m\u001b[0;34m,\u001b[0m \u001b[0margs\u001b[0m\u001b[0;34m,\u001b[0m \u001b[0mkwargs\u001b[0m \u001b[0;32min\u001b[0m \u001b[0mself\u001b[0m\u001b[0;34m.\u001b[0m\u001b[0mitems\u001b[0m\u001b[0;34m]\u001b[0m\u001b[0;34m\u001b[0m\u001b[0m\n\u001b[0m\u001b[1;32m    132\u001b[0m \u001b[0;34m\u001b[0m\u001b[0m\n\u001b[1;32m    133\u001b[0m     \u001b[0;32mdef\u001b[0m \u001b[0m__len__\u001b[0m\u001b[0;34m(\u001b[0m\u001b[0mself\u001b[0m\u001b[0;34m)\u001b[0m\u001b[0;34m:\u001b[0m\u001b[0;34m\u001b[0m\u001b[0m\n",
      "\u001b[0;32m/home/igor/anaconda2/envs/py27/lib/python2.7/site-packages/sklearn/cross_validation.pyc\u001b[0m in \u001b[0;36m_fit_and_score\u001b[0;34m(estimator, X, y, scorer, train, test, verbose, parameters, fit_params, return_train_score, return_parameters, error_score)\u001b[0m\n\u001b[1;32m   1663\u001b[0m             \u001b[0mestimator\u001b[0m\u001b[0;34m.\u001b[0m\u001b[0mfit\u001b[0m\u001b[0;34m(\u001b[0m\u001b[0mX_train\u001b[0m\u001b[0;34m,\u001b[0m \u001b[0;34m**\u001b[0m\u001b[0mfit_params\u001b[0m\u001b[0;34m)\u001b[0m\u001b[0;34m\u001b[0m\u001b[0m\n\u001b[1;32m   1664\u001b[0m         \u001b[0;32melse\u001b[0m\u001b[0;34m:\u001b[0m\u001b[0;34m\u001b[0m\u001b[0m\n\u001b[0;32m-> 1665\u001b[0;31m             \u001b[0mestimator\u001b[0m\u001b[0;34m.\u001b[0m\u001b[0mfit\u001b[0m\u001b[0;34m(\u001b[0m\u001b[0mX_train\u001b[0m\u001b[0;34m,\u001b[0m \u001b[0my_train\u001b[0m\u001b[0;34m,\u001b[0m \u001b[0;34m**\u001b[0m\u001b[0mfit_params\u001b[0m\u001b[0;34m)\u001b[0m\u001b[0;34m\u001b[0m\u001b[0m\n\u001b[0m\u001b[1;32m   1666\u001b[0m \u001b[0;34m\u001b[0m\u001b[0m\n\u001b[1;32m   1667\u001b[0m     \u001b[0;32mexcept\u001b[0m \u001b[0mException\u001b[0m \u001b[0;32mas\u001b[0m \u001b[0me\u001b[0m\u001b[0;34m:\u001b[0m\u001b[0;34m\u001b[0m\u001b[0m\n",
      "\u001b[0;32m/home/igor/anaconda2/envs/py27/lib/python2.7/site-packages/sklearn/linear_model/logistic.pyc\u001b[0m in \u001b[0;36mfit\u001b[0;34m(self, X, y, sample_weight)\u001b[0m\n\u001b[1;32m   1177\u001b[0m \u001b[0;34m\u001b[0m\u001b[0m\n\u001b[1;32m   1178\u001b[0m         _check_solver_option(self.solver, self.multi_class, self.penalty,\n\u001b[0;32m-> 1179\u001b[0;31m                              self.dual)\n\u001b[0m\u001b[1;32m   1180\u001b[0m \u001b[0;34m\u001b[0m\u001b[0m\n\u001b[1;32m   1181\u001b[0m         \u001b[0;32mif\u001b[0m \u001b[0mself\u001b[0m\u001b[0;34m.\u001b[0m\u001b[0msolver\u001b[0m \u001b[0;34m==\u001b[0m \u001b[0;34m'liblinear'\u001b[0m\u001b[0;34m:\u001b[0m\u001b[0;34m\u001b[0m\u001b[0m\n",
      "\u001b[0;32m/home/igor/anaconda2/envs/py27/lib/python2.7/site-packages/sklearn/linear_model/logistic.pyc\u001b[0m in \u001b[0;36m_check_solver_option\u001b[0;34m(solver, multi_class, penalty, dual)\u001b[0m\n\u001b[1;32m    438\u001b[0m         \u001b[0;32mif\u001b[0m \u001b[0mpenalty\u001b[0m \u001b[0;34m!=\u001b[0m \u001b[0;34m'l2'\u001b[0m\u001b[0;34m:\u001b[0m\u001b[0;34m\u001b[0m\u001b[0m\n\u001b[1;32m    439\u001b[0m             raise ValueError(\"Solver %s supports only l2 penalties, \"\n\u001b[0;32m--> 440\u001b[0;31m                              \"got %s penalty.\" % (solver, penalty))\n\u001b[0m\u001b[1;32m    441\u001b[0m         \u001b[0;32mif\u001b[0m \u001b[0mdual\u001b[0m\u001b[0;34m:\u001b[0m\u001b[0;34m\u001b[0m\u001b[0m\n\u001b[1;32m    442\u001b[0m             raise ValueError(\"Solver %s supports only \"\n",
      "\u001b[0;31mValueError\u001b[0m: Solver sag supports only l2 penalties, got l1 penalty."
     ]
    }
   ],
   "source": [
    "opt1_z.fit(X_train_zeros, y_train)\n",
    "opt1_m.fit(X_train_mean, y_train)\n",
    "\n",
    "opt1_zs.fit(X_train_zeros_scaled, y_train)\n",
    "opt1_ms.fit(X_train_mean_scaled, y_train)"
   ]
  },
  {
   "cell_type": "code",
   "execution_count": null,
   "metadata": {
    "slideshow": {
     "slide_type": "subslide"
    }
   },
   "outputs": [],
   "source": [
    "plot_scores(opt1_z, opt1_m,[\"zeros_nonscaled\",\"mean_nonscaled\"])"
   ]
  },
  {
   "cell_type": "code",
   "execution_count": null,
   "metadata": {
    "slideshow": {
     "slide_type": "subslide"
    }
   },
   "outputs": [],
   "source": [
    "plot_scores(opt1_zs, opt1_ms,[\"zeros_scaled\",\"mean_scaled\"])"
   ]
  },
  {
   "cell_type": "code",
   "execution_count": null,
   "metadata": {
    "slideshow": {
     "slide_type": "subslide"
    }
   },
   "outputs": [],
   "source": [
    "fpr1, tpr1, _ = roc_curve(y_test, opt1_z.predict_proba(X_test_zeros)[:,1])\n",
    "fpr2, tpr2, _ = roc_curve(y_test, opt1_m.predict_proba(X_test_mean)[:,1])\n",
    "fpr3, tpr3, _ = roc_curve(y_test, opt1_zs.predict_proba(X_test_zeros_scaled)[:,1])\n",
    "fpr4, tpr4, _ = roc_curve(y_test, opt1_ms.predict_proba(X_test_mean_scaled)[:,1])\n",
    "plot_roc((fpr1,fpr2, fpr3,fpr4), (tpr1, tpr2,tpr3, tpr4), \n",
    "(\"zeros_nonscaled\",\"mean_nonscaled\", \"zeros_scaled\",\"mean_scaled\"), (\"red\",\"orange\",\"green\",\"blue\"))"
   ]
  },
  {
   "cell_type": "code",
   "execution_count": null,
   "metadata": {
    "collapsed": true,
    "slideshow": {
     "slide_type": "notes"
    }
   },
   "outputs": [],
   "source": [
    "def print_results1():\n",
    "    print \"Для zeros_nonscaled\"\n",
    "    print \"ROC-AUC на обучении: \", round(opt1_z.best_score_, 4)\n",
    "    print \"ROC-AUC на отложенной выборке: \",  round(roc_auc_score(y_test, opt1_z.predict(X_test_zeros)), 6)\n",
    "    print \"С: \", est1_z.C\n",
    "    print\"\\n\"\n",
    "    print \"Для mean_nonscaled\"\n",
    "    print \"ROC-AUC на обучении: \", round(opt1_m.best_score_, 4)\n",
    "    print \"ROC-AUC на отложенной выборке: \",  round(roc_auc_score(y_test, opt1_m.predict(X_test_mean)), 6)\n",
    "    print \"С: \", est1_m.C\n",
    "    print\"\\n\"\n",
    "    print \"Для zeros_scaled\"\n",
    "    print \"ROC-AUC на обучении: \", round(opt1_zs.best_score_, 4)\n",
    "    print \"ROC-AUC на отложенной выборке: \",  round(roc_auc_score(y_test, opt1_zs.predict(X_test_zeros_scaled)), 6)\n",
    "    print \"С: \", est1_zs.C\n",
    "    print\"\\n\"\n",
    "    print \"Для mean_scaled\"\n",
    "    print \"ROC-AUC на обучении: \", round(opt1_ms.best_score_, 4)\n",
    "    print \"ROC-AUC на отложенной выборке: \",  round(roc_auc_score(y_test, opt1_ms.predict(X_test_mean_scaled)), 6)\n",
    "    print \"С: \", est1_ms.C"
   ]
  },
  {
   "cell_type": "code",
   "execution_count": null,
   "metadata": {
    "slideshow": {
     "slide_type": "subslide"
    }
   },
   "outputs": [],
   "source": [
    "print_results1()"
   ]
  },
  {
   "cell_type": "markdown",
   "metadata": {
    "slideshow": {
     "slide_type": "subslide"
    }
   },
   "source": [
    "Стандартизация повысила roc-auc на обоих выборках.\n",
    "\n",
    "Столь малое влияние нормализации в обоих случаях проявляется потому, что элементов с большим отклоением в исходной выборке было мало  "
   ]
  },
  {
   "cell_type": "markdown",
   "metadata": {
    "slideshow": {
     "slide_type": "slide"
    }
   },
   "source": [
    "## Заключение:\n",
    "* Провели преобразование исходных данных;\n",
    "* При фиксированном солвере посмотрели как ведет себя roc-auc в завиимость от регуляризатора, константы C и входных данных(исходных и стандартизованных, со средними нулями на пропусках);\n",
    "* Наилучший результат на обучающей выборке по мере roc_auc = 83.9744 (для zeros_scaled , и zeros_nonscaled при L1 и L2) "
   ]
  },
  {
   "cell_type": "markdown",
   "metadata": {
    "slideshow": {
     "slide_type": "slide"
    }
   },
   "source": [
    "### Материалы:\n",
    "\n",
    "1) Видеолекции Школы анализа данных, https://yandexdataschool.ru/\n",
    "\n",
    "2) http://scikit-learn.org/\n"
   ]
  },
  {
   "cell_type": "markdown",
   "metadata": {
    "slideshow": {
     "slide_type": "slide"
    }
   },
   "source": [
    "# Спасибо за внимание!"
   ]
  }
 ],
 "metadata": {
  "celltoolbar": "Raw Cell Format",
  "kernelspec": {
   "display_name": "Python 2",
   "language": "python",
   "name": "python2"
  },
  "language_info": {
   "codemirror_mode": {
    "name": "ipython",
    "version": 2
   },
   "file_extension": ".py",
   "mimetype": "text/x-python",
   "name": "python",
   "nbconvert_exporter": "python",
   "pygments_lexer": "ipython2",
   "version": "2.7.13"
  }
 },
 "nbformat": 4,
 "nbformat_minor": 2
}
